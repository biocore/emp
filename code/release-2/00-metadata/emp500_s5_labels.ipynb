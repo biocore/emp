{
 "cells": [
  {
   "cell_type": "markdown",
   "metadata": {},
   "source": [
    "## emp500_s5_labels.ipynb\n",
    "\n",
    "Run this notebook after running:\n",
    "\n",
    "* `emp500_s1_merge_sample_info.ipynb`\n",
    "* `emp500_s2_add_prep_info_sample_names.ipynb`\n",
    "* `emp500_s3_make_mapping_files_prep_info.ipynb`\n",
    "* `emp500_s4_sample_summary.ipynb`"
   ]
  },
  {
   "cell_type": "code",
   "execution_count": 1,
   "metadata": {
    "collapsed": true
   },
   "outputs": [],
   "source": [
    "import pandas as pd"
   ]
  },
  {
   "cell_type": "code",
   "execution_count": 2,
   "metadata": {
    "collapsed": true
   },
   "outputs": [],
   "source": [
    "# df will be the list of samples we want to make labels for\n",
    "df = pd.read_csv('/Users/luke.thompson/emp/500-metadata/labels/emp500_sample_summary.csv')\n",
    "# remove studies: Kshtrika\n",
    "df = df[df.emp500_principal_investigator != 'Kshtrika']\n",
    "# idx is the list of per-study indexes (manually-generated)\n",
    "idx = pd.read_excel('/Users/luke.thompson/emp/500-metadata/labels/emp500_per_study_indexes.xlsx')\n",
    "idx = idx[['sample_name', 'study_index']]"
   ]
  },
  {
   "cell_type": "code",
   "execution_count": 3,
   "metadata": {
    "collapsed": true
   },
   "outputs": [],
   "source": [
    "# merge df with idx\n",
    "df = pd.merge(df, idx, left_on='#SampleID', right_on='sample_name')\n",
    "# remove samples without study IDs (negative and positive controls)\n",
    "df = df[df.emp500_study_id != 'Not applicable']"
   ]
  },
  {
   "cell_type": "code",
   "execution_count": 4,
   "metadata": {
    "scrolled": true
   },
   "outputs": [],
   "source": [
    "# split PI-study and sample name to print on barcode\n",
    "df['pi_study'] = [x.split('.', maxsplit=1)[0] for x in df['#SampleID']]\n",
    "df['sample_name_only'] = [x.split('.', maxsplit=1)[1] for x in df['#SampleID']]"
   ]
  },
  {
   "cell_type": "code",
   "execution_count": 5,
   "metadata": {},
   "outputs": [],
   "source": [
    "# convert study IDs to integers, sort by study_id and index, and get list of unique ones\n",
    "df.emp500_study_id = [int(x) for x in df.emp500_study_id]\n",
    "df.sort_values(['emp500_study_id', 'study_index'], ascending=True, inplace=True)\n",
    "studies = sorted(list(set(df.emp500_study_id)))"
   ]
  },
  {
   "cell_type": "code",
   "execution_count": 6,
   "metadata": {},
   "outputs": [],
   "source": [
    "# df2 is the table of labels/aliquots (9 for each sample)\n",
    "# dfs is a subset of df just for each study\n",
    "\n",
    "# master label list (df2)\n",
    "df2 = pd.DataFrame(columns=['barcode1', 'barcode2', 'project', 'study_number', 'principal_investigator', \n",
    "                            'study_title', 'sample_name', 'sample_number', 'aliquot_number', 'empo_3', \n",
    "                            'study_num_pi'], \n",
    "                   index=range(df.shape[0]*9))\n",
    "i = 0\n",
    "for study in studies:\n",
    "    dfs = df[df.emp500_study_id == study]\n",
    "    for index, sample in dfs.iterrows():\n",
    "        for k in range(1,10):\n",
    "            barcode = '%s.%s.s%s.a%s' % (sample.emp500_principal_investigator.lower(),\n",
    "                                       str(study), \n",
    "                                       str(sample.study_index).zfill(3), \n",
    "                                       str(k).zfill(2))\n",
    "            df2.iloc[i]['barcode1'] = barcode\n",
    "            df2.iloc[i]['barcode2'] = barcode\n",
    "            df2.iloc[i]['project'] = 'EMP500'\n",
    "            df2.iloc[i]['study_number'] = sample.emp500_study_id\n",
    "            df2.iloc[i]['principal_investigator'] = sample.emp500_principal_investigator\n",
    "            df2.iloc[i]['study_title'] = sample.emp500_title\n",
    "            df2.iloc[i]['sample_name'] = sample.sample_name_only\n",
    "            df2.iloc[i]['sample_number'] = sample.study_index\n",
    "            df2.iloc[i]['aliquot_number'] = k\n",
    "            df2.iloc[i]['empo_3'] = sample.empo_3\n",
    "            df2.iloc[i]['study_num_pi'] = '%s-%s' % (sample.emp500_study_id, sample.emp500_principal_investigator)\n",
    "            i += 1\n",
    "df2.to_excel('/Users/luke.thompson/emp/500-metadata/labels/emp500_labels.xlsx', index=None)"
   ]
  },
  {
   "cell_type": "code",
   "execution_count": 7,
   "metadata": {
    "collapsed": true
   },
   "outputs": [],
   "source": [
    "# df2 is the table of labels/aliquots (2 for each sample)\n",
    "# dfs is a subset of df just for each study\n",
    "\n",
    "# master label list (df2)\n",
    "df2 = pd.DataFrame(columns=['barcode1', 'barcode2', 'project', 'study_number', 'principal_investigator', \n",
    "                            'study_title', 'sample_name', 'sample_number', 'aliquot_number', 'empo_3',\n",
    "                            'study_num_pi'], \n",
    "                   index=range(df.shape[0]*9))\n",
    "i = 0\n",
    "for study in studies:\n",
    "    dfs = df[df.emp500_study_id == study]\n",
    "    for index, sample in dfs.iterrows():\n",
    "        for k in range(10,12):\n",
    "            barcode = '%s.%s.s%s.a%s' % (sample.emp500_principal_investigator.lower(),\n",
    "                                       str(study), \n",
    "                                       str(sample.study_index).zfill(3), \n",
    "                                       str(k).zfill(2))\n",
    "            df2.iloc[i]['barcode1'] = barcode\n",
    "            df2.iloc[i]['barcode2'] = barcode\n",
    "            df2.iloc[i]['project'] = 'EMP500'\n",
    "            df2.iloc[i]['study_number'] = sample.emp500_study_id\n",
    "            df2.iloc[i]['principal_investigator'] = sample.emp500_principal_investigator\n",
    "            df2.iloc[i]['study_title'] = sample.emp500_title\n",
    "            df2.iloc[i]['sample_name'] = sample.sample_name_only\n",
    "            df2.iloc[i]['sample_number'] = sample.study_index\n",
    "            df2.iloc[i]['aliquot_number'] = k\n",
    "            df2.iloc[i]['empo_3'] = sample.empo_3\n",
    "            df2.iloc[i]['study_num_pi'] = '%s-%s' % (sample.emp500_study_id, sample.emp500_principal_investigator)\n",
    "            i += 1\n",
    "df2.to_excel('/Users/luke.thompson/emp/500-metadata/labels/emp500_labels_extra.xlsx', index=None)"
   ]
  },
  {
   "cell_type": "code",
   "execution_count": 8,
   "metadata": {},
   "outputs": [],
   "source": [
    "# gsheet is the excel files of combined worksheets\n",
    "# dfi is the per-study table of labels/aliquots\n",
    "# dfs is a subset of df just for each study\n",
    "\n",
    "# master label list (dfi -> gsheet)\n",
    "gsheet = pd.ExcelWriter('/Users/luke.thompson/emp/500-metadata/labels/emp500_gsheet.xlsx')\n",
    "for study in studies:\n",
    "    i = 0\n",
    "    dfs = df[df.emp500_study_id == study]\n",
    "    dfi = pd.DataFrame(columns=['sample_name', 'sample_number', 'aliquot_number', 'empo_3', 'barcode', 'scanned_barcode', 'notes'], \n",
    "                       index=range(dfs.shape[0]*9))\n",
    "    for index, sample in dfs.iterrows():\n",
    "        for k in range(1,10):\n",
    "            barcode = '%s.%s.s%s.a%s' % (sample.emp500_principal_investigator.lower(),\n",
    "                                       str(study), \n",
    "                                       str(sample.study_index).zfill(3), \n",
    "                                       str(k).zfill(2))\n",
    "            dfi.iloc[i]['sample_name'] = sample.sample_name_only\n",
    "            dfi.iloc[i]['sample_number'] = sample.study_index\n",
    "            dfi.iloc[i]['aliquot_number'] = k\n",
    "            dfi.iloc[i]['empo_3'] = sample.empo_3\n",
    "            dfi.iloc[i]['barcode'] = barcode\n",
    "            dfi.iloc[i]['scanned_barcode'] = ''\n",
    "            dfi.iloc[i]['notes'] = ''\n",
    "            i += 1\n",
    "    dfi.to_excel(gsheet, '%s-%s' % (str(study), sample.emp500_principal_investigator))\n",
    "gsheet.save()"
   ]
  },
  {
   "cell_type": "code",
   "execution_count": 9,
   "metadata": {},
   "outputs": [],
   "source": [
    "# gsheet is the excel files of combined worksheets\n",
    "# dfi is the per-study table of labels/aliquots\n",
    "# dfs is a subset of df just for each study\n",
    "\n",
    "# master label list (dfi -> gsheet)\n",
    "gsheet = pd.ExcelWriter('/Users/luke.thompson/emp/500-metadata/labels/emp500_gsheet_extra.xlsx')\n",
    "for study in studies:\n",
    "    i = 0\n",
    "    dfs = df[df.emp500_study_id == study]\n",
    "    dfi = pd.DataFrame(columns=['sample_name', 'sample_number', 'aliquot_number', 'empo_3', 'barcode', 'scanned_barcode', 'notes'], \n",
    "                       index=range(dfs.shape[0]*9))\n",
    "    for index, sample in dfs.iterrows():\n",
    "        for k in range(10,12):\n",
    "            barcode = '%s.%s.s%s.a%s' % (sample.emp500_principal_investigator.lower(),\n",
    "                                       str(study), \n",
    "                                       str(sample.study_index).zfill(3), \n",
    "                                       str(k).zfill(2))\n",
    "            dfi.iloc[i]['sample_name'] = sample.sample_name_only\n",
    "            dfi.iloc[i]['sample_number'] = sample.study_index\n",
    "            dfi.iloc[i]['aliquot_number'] = k\n",
    "            dfi.iloc[i]['empo_3'] = sample.empo_3\n",
    "            dfi.iloc[i]['barcode'] = barcode\n",
    "            dfi.iloc[i]['scanned_barcode'] = ''\n",
    "            dfi.iloc[i]['notes'] = ''\n",
    "            i += 1\n",
    "    dfi.to_excel(gsheet, '%s-%s' % (str(study), sample.emp500_principal_investigator))\n",
    "gsheet.save()"
   ]
  },
  {
   "cell_type": "code",
   "execution_count": 10,
   "metadata": {},
   "outputs": [],
   "source": [
    "# dfbox is per-box per-study labels\n",
    "# dfs is a subset of df just for each study\n",
    "\n",
    "dfbox = pd.DataFrame(columns=['col1', 'col2', 'col3', 'col4'], \n",
    "                     index=range(len(studies)))\n",
    "i = 0\n",
    "for study in studies:\n",
    "    dfs = df[df.emp500_study_id == study]\n",
    "    example = dfs.iloc[0]\n",
    "    trim = 28\n",
    "    label = '%s\\r%s\\r%s\\r' % (\n",
    "        ('EMP500 '+str(example['emp500_study_id'])+'-'+example['emp500_principal_investigator'])[:trim],\n",
    "        example['emp500_title'][:trim],\n",
    "        (example['empo_3']+' / '+example['sampling_method'])[:trim])\n",
    "    dfbox.iloc[i]['col1'] = label + 'Box 1 of __'\n",
    "    dfbox.iloc[i]['col2'] = label + 'Box 2 of __'\n",
    "    dfbox.iloc[i]['col3'] = label + 'Box 3 of __'\n",
    "    dfbox.iloc[i]['col4'] = label + 'Box 4 of __'\n",
    "    i += 1\n",
    "dfbox.to_excel('/Users/luke.thompson/emp/500-metadata/labels/emp500_box_labels.xlsx', index=None)"
   ]
  },
  {
   "cell_type": "code",
   "execution_count": null,
   "metadata": {
    "collapsed": true
   },
   "outputs": [],
   "source": []
  }
 ],
 "metadata": {
  "anaconda-cloud": {},
  "kernelspec": {
   "display_name": "Python 3",
   "language": "python",
   "name": "python3"
  },
  "language_info": {
   "codemirror_mode": {
    "name": "ipython",
    "version": 3
   },
   "file_extension": ".py",
   "mimetype": "text/x-python",
   "name": "python",
   "nbconvert_exporter": "python",
   "pygments_lexer": "ipython3",
   "version": "3.7.1"
  }
 },
 "nbformat": 4,
 "nbformat_minor": 1
}
