{
 "cells": [
  {
   "cell_type": "markdown",
   "metadata": {},
   "source": [
    "## emp500_s4_sample_summary.ipynb\n",
    "\n",
    "Run this notebook after running:\n",
    "\n",
    "* `emp500_s1_merge_sample_info.ipynb`\n",
    "* `emp500_s2_add_prep_info_sample_names.ipynb`\n",
    "* `emp500_s3_make_mapping_files_prep_info.ipynb`"
   ]
  },
  {
   "cell_type": "code",
   "execution_count": 1,
   "metadata": {},
   "outputs": [],
   "source": [
    "import pandas as pd"
   ]
  },
  {
   "cell_type": "code",
   "execution_count": 2,
   "metadata": {},
   "outputs": [],
   "source": [
    "path_table = '/Users/luke.thompson/emp/500-metadata/output-mapping-prep-info/emp500_basic_map.tsv'"
   ]
  },
  {
   "cell_type": "code",
   "execution_count": 3,
   "metadata": {},
   "outputs": [],
   "source": [
    "df = pd.read_csv(path_table, sep='\\t', index_col=0)"
   ]
  },
  {
   "cell_type": "code",
   "execution_count": 4,
   "metadata": {},
   "outputs": [
    {
     "data": {
      "text/plain": [
       "Index(['sample_name_plus_plate', 'study_sample_number', 'barcode_prefix',\n",
       "       'emp500_study_id', 'emp500_principal_investigator', 'emp500_title',\n",
       "       'sampling_materials', 'sampling_method', 'environmental_package',\n",
       "       'empo_0', 'empo_1', 'empo_2', 'empo_3', 'SampleID', 'plate_no_pcr1',\n",
       "       'well_no_pcr1', 'well_id_pcr1', 'well_row_pcr1', 'well_column_pcr1',\n",
       "       'metab_id_2017', 'physical_specimen_institution', 'plating_person',\n",
       "       'dna_kit_name', 'extraction_kit_lot', 'extraction_robot', 'mass_mg',\n",
       "       'plated_date', 'dna_date', 'dna_person', 'dna_yield_method',\n",
       "       'dna_conc_mean', 'dna_conc_stdev', 'dna_conc_cv'],\n",
       "      dtype='object')"
      ]
     },
     "execution_count": 4,
     "metadata": {},
     "output_type": "execute_result"
    }
   ],
   "source": [
    "df.columns"
   ]
  },
  {
   "cell_type": "code",
   "execution_count": 5,
   "metadata": {
    "scrolled": false
   },
   "outputs": [
    {
     "data": {
      "text/plain": [
       "JJM    672\n",
       "EB     192\n",
       "Name: dna_person, dtype: int64"
      ]
     },
     "execution_count": 5,
     "metadata": {},
     "output_type": "execute_result"
    }
   ],
   "source": [
    "df.dna_person.value_counts()"
   ]
  },
  {
   "cell_type": "code",
   "execution_count": 6,
   "metadata": {},
   "outputs": [],
   "source": [
    "cols = ['emp500_study_id', 'emp500_principal_investigator', 'emp500_title', 'sampling_method', 'environmental_package', 'empo_3', 'dna_person']"
   ]
  },
  {
   "cell_type": "code",
   "execution_count": 7,
   "metadata": {},
   "outputs": [],
   "source": [
    "df_sub = df[cols]"
   ]
  },
  {
   "cell_type": "code",
   "execution_count": 8,
   "metadata": {},
   "outputs": [],
   "source": [
    "df_sub.to_csv('/Users/luke.thompson/emp/500-metadata/labels/emp500_sample_summary.csv')"
   ]
  },
  {
   "cell_type": "code",
   "execution_count": 9,
   "metadata": {},
   "outputs": [],
   "source": [
    "# sample names only, to add per-study indexes (study_sample_number)\n",
    "df_sub.index.to_series().to_csv('/Users/luke.thompson/emp/500-metadata/labels/emp500_sample_names.csv')"
   ]
  },
  {
   "cell_type": "code",
   "execution_count": 10,
   "metadata": {},
   "outputs": [],
   "source": [
    "%%bash\n",
    "cut -d ',' -f 2- /Users/luke.thompson/emp/500-metadata/labels/emp500_project_summary.csv \\\n",
    "| sort | uniq -c > /Users/luke.thompson/emp/500-metadata/labels/temp.csv"
   ]
  },
  {
   "cell_type": "code",
   "execution_count": null,
   "metadata": {},
   "outputs": [],
   "source": []
  }
 ],
 "metadata": {
  "anaconda-cloud": {},
  "kernelspec": {
   "display_name": "Python 3",
   "language": "python",
   "name": "python3"
  },
  "language_info": {
   "codemirror_mode": {
    "name": "ipython",
    "version": 3
   },
   "file_extension": ".py",
   "mimetype": "text/x-python",
   "name": "python",
   "nbconvert_exporter": "python",
   "pygments_lexer": "ipython3",
   "version": "3.7.1"
  }
 },
 "nbformat": 4,
 "nbformat_minor": 1
}
