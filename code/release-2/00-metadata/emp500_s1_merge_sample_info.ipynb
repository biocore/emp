{
 "cells": [
  {
   "cell_type": "markdown",
   "metadata": {},
   "source": [
    "## emp500_s1_merge_sample_info.ipynb"
   ]
  },
  {
   "cell_type": "code",
   "execution_count": 1,
   "metadata": {},
   "outputs": [],
   "source": [
    "import pandas as pd"
   ]
  },
  {
   "cell_type": "code",
   "execution_count": 2,
   "metadata": {},
   "outputs": [],
   "source": [
    "pd.set_option('display.max_rows',100)\n",
    "pd.set_option('display.max_columns',100)"
   ]
  },
  {
   "cell_type": "code",
   "execution_count": 3,
   "metadata": {},
   "outputs": [],
   "source": [
    "path_sample_info_manual = '/Users/luke.thompson/emp/500-metadata/input-sample-prep-info/emp500_sample_information_manual.xlsx'\n",
    "path_prep_info_general_prepandas = '/Users/luke.thompson/emp/500-metadata/input-sample-prep-info/emp500_prep_information_general_prepandas.xlsx'"
   ]
  },
  {
   "cell_type": "code",
   "execution_count": 4,
   "metadata": {},
   "outputs": [],
   "source": [
    "df_samp = pd.read_excel(path_sample_info_manual)\n",
    "df_prep = pd.read_excel(path_prep_info_general_prepandas)"
   ]
  },
  {
   "cell_type": "code",
   "execution_count": 5,
   "metadata": {},
   "outputs": [],
   "source": [
    "df0 = pd.read_excel('/Users/luke.thompson/emp/500-metadata-studies/0-controls/controls_76_samples.xlsx', skiprows=[1,2])\n",
    "df1 = pd.read_excel('/Users/luke.thompson/emp/500-metadata-studies/1-Kshtrika-oil/Kshtrika1_misc_environment_11_samples.xlsx', skiprows=[1,2])\n",
    "df2 = pd.read_excel('/Users/luke.thompson/emp/500-metadata-studies/2-Berry-sediment/Berry2_sediment_20_samples.xlsx', skiprows=[1,2])\n",
    "df3 = pd.read_excel('/Users/luke.thompson/emp/500-metadata-studies/3-MacRae-Crerar-soil/MacRae_soil_12_samples.xlsx', skiprows=[1,2])\n",
    "df5 = pd.read_excel('/Users/luke.thompson/emp/500-metadata-studies/5-Myrold-soil/Myrold5_soil_12_samples.xlsx', skiprows=[1,2])\n",
    "df9 = pd.read_excel('/Users/luke.thompson/emp/500-metadata-studies/9-Zaneveld-coral/Zaneveld9_coral_20_samples.xlsx')\n",
    "df18 = pd.read_excel('/Users/luke.thompson/emp/500-metadata-studies/18-Thomas-sponge/Thomas18_sponge_54_samples.xlsx', skiprows=[1,2])\n",
    "df19 = pd.read_excel('/Users/luke.thompson/emp/500-metadata-studies/19-Thomas-algae/Thomas19_algae_64_samples.xlsx', skiprows=[1,2])\n",
    "df21 = pd.read_excel('/Users/luke.thompson/emp/500-metadata-studies/21-McMahon-bioreactor/McMahon21_bioreactor_17_samples.xlsx', skiprows=[1,2])\n",
    "df23 = pd.read_excel('/Users/luke.thompson/emp/500-metadata-studies/23-Shade-soil/Shade23_soil_10_samples.xlsx', skiprows=[1,2])\n",
    "df26 = pd.read_excel('/Users/luke.thompson/emp/500-metadata-studies/26-Stewart-water/Stewart26_water_8_samples.xlsx', skiprows=[1,2])\n",
    "df27 = pd.read_excel('/Users/luke.thompson/emp/500-metadata-studies/27-King-soil/King27_soil_21_samples.xlsx', skiprows=[1,2])\n",
    "df33 = pd.read_excel('/Users/luke.thompson/emp/500-metadata-studies/33-Mayer-playa-sediment/Mayer33_sediment_7_samples.xlsx', skiprows=[1,2])\n",
    "df34 = pd.read_excel('/Users/luke.thompson/emp/500-metadata-studies/34-Mayer-sediment/Mayer34_sediment_10_samples.xlsx', skiprows=[1,2])\n",
    "df36 = pd.read_excel('/Users/luke.thompson/emp/500-metadata-studies/36-Stegen-permafrost/Stegen36_soil_15_samples.xlsx', skiprows=[1,2])\n",
    "df37 = pd.read_excel('/Users/luke.thompson/emp/500-metadata-studies/37-Stegen-sediment/Stegen37_sediment_10_samples.xlsx', skiprows=[1,2])\n",
    "df38 = pd.read_excel('/Users/luke.thompson/emp/500-metadata-studies/38-Stegen-soil/Stegen38_soil_18_samples.xlsx', skiprows=[1,2])\n",
    "df39 = pd.read_excel('/Users/luke.thompson/emp/500-metadata-studies/39-Smith-algae/Smith39_plant_associated_8_samples.xlsx', skiprows=[1,2])\n",
    "df40 = pd.read_excel('/Users/luke.thompson/emp/500-metadata-studies/40-Metcalf-soil/Metcalf40_soil_14_samples.xlsx', skiprows=[1,2])\n",
    "df42 = pd.read_excel('/Users/luke.thompson/emp/500-metadata-studies/42-Palenik-water/Palenik42_water_20_samples.xlsx', skiprows=[1,2])\n",
    "df43 = pd.read_excel('/Users/luke.thompson/emp/500-metadata-studies/43-Jensen-sediment/Jensen43_sediment_43_samples.xlsx', skiprows=[1,2])\n",
    "df45 = pd.read_excel('/Users/luke.thompson/emp/500-metadata-studies/45-Roy-Chowdhury-soil/RoyChowdhury45_soil_24_samples.xlsx', skiprows=[1,2])\n",
    "df46 = pd.read_excel('/Users/luke.thompson/emp/500-metadata-studies/46-Makhalanyane-gravel-soil/Makhalanyane46_soil_10_samples.xlsx', skiprows=[1,2])\n",
    "df47 = pd.read_excel('/Users/luke.thompson/emp/500-metadata-studies/47-Makhalanyane-dune-sand/Makhalanyane47_soil_9_samples.xlsx', skiprows=[1,2])\n",
    "df50 = pd.read_excel('/Users/luke.thompson/emp/500-metadata-studies/50-Girguis-fecal/Girguis50_host_associated_12_samples.xlsx', skiprows=[1,2])\n",
    "df51 = pd.read_excel('/Users/luke.thompson/emp/500-metadata-studies/51-Song-terrestrial-fecal/Song51_host_associated_20_samples.xlsx', skiprows=[1,2])\n",
    "df52 = pd.read_excel('/Users/luke.thompson/emp/500-metadata-studies/52-Song-herps-fecal/Song52_host_associated_15_samples.xlsx', skiprows=[1,2])\n",
    "df53 = pd.read_excel('/Users/luke.thompson/emp/500-metadata-studies/53-Song-bird-fecal/Song53_host_associated_15_samples.xlsx', skiprows=[1,2])\n",
    "df54 = pd.read_excel('/Users/luke.thompson/emp/500-metadata-studies/54-Sandin-fecal/Sandin54_host_associated_15_samples.xlsx', skiprows=[1,2])\n",
    "df56 = pd.read_excel('/Users/luke.thompson/emp/500-metadata-studies/56-Schmidt-soil/Schmidt56_soil_26_samples.xlsx', skiprows=[1,2])\n",
    "df58 = pd.read_excel('/Users/luke.thompson/emp/500-metadata-studies/58-Tucker-coal/Tucker58_miscellaneous_16_samples.xlsx', skiprows=[1,2])\n",
    "df59 = pd.read_excel('/Users/luke.thompson/emp/500-metadata-studies/59-Myrold-oregon-soil/Myrold59_soil_22_samples.xlsx', skiprows=[1,2])\n",
    "df62 = pd.read_excel('/Users/luke.thompson/emp/500-metadata-studies/62-Pinto-soil/Pinto62_soil_24_samples.xlsx', skiprows=[1,2])\n",
    "df63 = pd.read_excel('/Users/luke.thompson/emp/500-metadata-studies/63-Pinto-insect-nest/Pinto63_host_associated_28_samples.xlsx', skiprows=[1,2])\n",
    "df65 = pd.read_excel('/Users/luke.thompson/emp/500-metadata-studies/65-Angenent-bioreactor/Angenent65_misc_environment_9_samples.xlsx', skiprows=[1,2])\n",
    "df68 = pd.read_excel('/Users/luke.thompson/emp/500-metadata-studies/68-Bittleston-plant/Bittleston68_plant_associated_15_samples.xlsx', skiprows=[1,2])\n",
    "df71 = pd.read_excel('/Users/luke.thompson/emp/500-metadata-studies/71-Seedorf-soil/Seedorf71_soil_14_samples.xlsx', skiprows=[1,2])\n",
    "df72 = pd.read_excel('/Users/luke.thompson/emp/500-metadata-studies/72-Distel-gut/Distel72_host_associated_24_samples.xlsx', skiprows=[1,2])\n",
    "df74 = pd.read_excel('/Users/luke.thompson/emp/500-metadata-studies/74-Bowen-sediment/Bowen74_sediment_16_samples.xlsx', skiprows=[1,2])\n",
    "df75 = pd.read_excel('/Users/luke.thompson/emp/500-metadata-studies/75-Song-aquatic-fecal/Song75_host_associated_4_samples.xlsx', skiprows=[1,2])\n",
    "df76 = pd.read_excel('/Users/luke.thompson/emp/500-metadata-studies/76-Minich-fecal/Minich76_manure_6_samples.xlsx', skiprows=[1,2])\n",
    "df77 = pd.read_excel('/Users/luke.thompson/emp/500-metadata-studies/77-Tait-water/Tait77_water_9_samples.xlsx', skiprows=[1,2])\n",
    "df78 = pd.read_excel('/Users/luke.thompson/emp/500-metadata-studies/78-Tait-sediment/Tait78_sediment_3_samples.xlsx', skiprows=[1,2])\n",
    "df81 = pd.read_excel('/Users/luke.thompson/emp/500-metadata-studies/81-Metcalf-skin/Metcalf81_skin_3_samples.xlsx', skiprows=[1,2])\n",
    "df82 = pd.read_excel('/Users/luke.thompson/emp/500-metadata-studies/82-Uren-lichen/Uren82_plant_associated_21_samples.xlsx', skiprows=[1,2])\n",
    "df84 = pd.read_excel('/Users/luke.thompson/emp/500-metadata-studies/84-85-86-87-Rohwer-misc/Rohwer84_soil_15_samples.xlsx', skiprows=[1,2])\n",
    "df85 = pd.read_excel('/Users/luke.thompson/emp/500-metadata-studies/84-85-86-87-Rohwer-misc/Rohwer85_sediment_27_samples.xlsx', skiprows=[1,2])\n",
    "df86 = pd.read_excel('/Users/luke.thompson/emp/500-metadata-studies/84-85-86-87-Rohwer-misc/Rohwer86_sediment_3_samples.xlsx', skiprows=[1,2])\n",
    "df88 = pd.read_excel('/Users/luke.thompson/emp/500-metadata-studies/88-Mousseau-fecal/Mousseau88_host_associated_112_samples.xlsx', skiprows=[1,2])"
   ]
  },
  {
   "cell_type": "code",
   "execution_count": 6,
   "metadata": {},
   "outputs": [],
   "source": [
    "dfs = [df0, df1, df2, df3, df5, df9, df18, df19, df21, df23, df26, df27,\n",
    "       df33, df34, df36, df37, df38, df39, df40, df42, df43, df45, df46, \n",
    "       df47, df50, df51, df52, df53, df54, df56, df58, df59, df62, df63, \n",
    "       df65, df68, df71, df72, df74, df75, df76, df77, df78, df81, df82, \n",
    "       df84, df85, df86, df88]"
   ]
  },
  {
   "cell_type": "code",
   "execution_count": 7,
   "metadata": {},
   "outputs": [
    {
     "data": {
      "text/plain": [
       "49"
      ]
     },
     "execution_count": 7,
     "metadata": {},
     "output_type": "execute_result"
    }
   ],
   "source": [
    "len(dfs)"
   ]
  },
  {
   "cell_type": "markdown",
   "metadata": {},
   "source": [
    "#### Metadata columns per study"
   ]
  },
  {
   "cell_type": "code",
   "execution_count": 8,
   "metadata": {},
   "outputs": [],
   "source": [
    "metadata_cols = pd.DataFrame(columns=['metadata_columns'])\n",
    "for df in dfs:\n",
    "    emp500_study_id = df_samp[df_samp['#SampleID'] == df.sample_name[0]]['emp500_study_id'].values[0]\n",
    "    columns = df.columns[2:]\n",
    "    columns = columns.drop('tier', errors='ignore').append(pd.Index(['tier']))\n",
    "    metadata_cols.loc[emp500_study_id] = ', '.join(columns)"
   ]
  },
  {
   "cell_type": "code",
   "execution_count": 9,
   "metadata": {
    "scrolled": true
   },
   "outputs": [],
   "source": [
    "metadata_cols.to_csv('/Users/luke/emp/500-counts/emp500_metadata_per_study.csv', index_label='emp500_study_id')"
   ]
  },
  {
   "cell_type": "markdown",
   "metadata": {},
   "source": [
    "#### Merge DataFrames"
   ]
  },
  {
   "cell_type": "code",
   "execution_count": 10,
   "metadata": {},
   "outputs": [],
   "source": [
    "# concatenate studies (df_merged)\n",
    "df_merged = pd.concat(dfs, ignore_index=True, sort=True)\n",
    "# move the tier column to head of list using index, pop, and insert, then ix to reorder\n",
    "cols = list(df_merged)\n",
    "cols.insert(0, cols.pop(cols.index('tier')))\n",
    "df_merged = df_merged.loc[:, cols]\n",
    "# merge df_merged with general sample info (df_samp)\n",
    "df_merged2 = pd.merge(df_samp, df_merged, left_on='#SampleID', right_on='sample_name')\n",
    "df_merged2.fillna('Not applicable', inplace=True)\n",
    "# drop or rename columns\n",
    "df_merged2.index = df_merged2['#SampleID']\n",
    "drop_cols = ['#SampleID',\n",
    "             '16S_sequencing_requested', \n",
    "             '18S_sequencing_requested',\n",
    "             'altitude.1',\n",
    "             'colony_heightm',\n",
    "             'depth.1',\n",
    "             'elevation.1',\n",
    "             'env_package',\n",
    "             'host_family_relationships',\n",
    "             'host_subject_id.1',\n",
    "             'index',\n",
    "             'its2_symbiodinium_sequencing_requested',\n",
    "             'pool_dna_extracts',\n",
    "             'project_name.1',\n",
    "             'sample_name']\n",
    "df_merged2.index.names = ['sample_name']\n",
    "df_merged2.drop(drop_cols, axis=1, inplace=True)"
   ]
  },
  {
   "cell_type": "code",
   "execution_count": 11,
   "metadata": {},
   "outputs": [],
   "source": [
    "df_merged2.drop_duplicates().to_csv('/Users/luke.thompson/emp/500-metadata/output-mapping-prep-info/emp500_sample_information.tsv', \n",
    "                  sep='\\t', index=True)"
   ]
  },
  {
   "cell_type": "code",
   "execution_count": 12,
   "metadata": {},
   "outputs": [],
   "source": [
    "df_basic = pd.merge(df_samp, df_prep, how='outer', left_on='sample_name_plus_plate', right_on='SampleID')"
   ]
  },
  {
   "cell_type": "markdown",
   "metadata": {},
   "source": [
    "#### Full mapping file"
   ]
  },
  {
   "cell_type": "code",
   "execution_count": 13,
   "metadata": {},
   "outputs": [],
   "source": [
    "drop_cols = ['SampleID', 'plate_no_pcr1', 'well_no_pcr1', 'well_id_pcr1', \n",
    "             'well_row_pcr1', 'well_column_pcr1', 'plating_person',\n",
    "             'dna_kit_name', 'extraction_kit_lot', 'extraction_robot', 'mass_mg',\n",
    "             'plated_date', 'dna_date', 'dna_person', 'dna_yield_method',\n",
    "             'dna_conc_mean', 'dna_conc_stdev', 'dna_conc_cv']"
   ]
  },
  {
   "cell_type": "code",
   "execution_count": 14,
   "metadata": {},
   "outputs": [],
   "source": [
    "df_full = pd.merge(df_basic, df_merged2.iloc[:, 13:], how='outer', \n",
    "                   left_on='#SampleID', right_index=True)\n",
    "df_full.drop(drop_cols, axis=1, inplace=True)"
   ]
  },
  {
   "cell_type": "code",
   "execution_count": 15,
   "metadata": {},
   "outputs": [],
   "source": [
    "df_full.drop_duplicates().to_csv('/Users/luke.thompson/emp/500-metadata/output-mapping-prep-info/emp500_full_map.tsv', \n",
    "                sep='\\t', index=False)"
   ]
  },
  {
   "cell_type": "code",
   "execution_count": 16,
   "metadata": {},
   "outputs": [],
   "source": [
    "# manually add prep information for Pinto62 (left out of prepandas file)\n",
    "df_full.loc[df_full.emp500_study_id == 62, 'physical_specimen_institution'] = 'PNNL'"
   ]
  },
  {
   "cell_type": "markdown",
   "metadata": {},
   "source": [
    "#### Basic mapping file"
   ]
  },
  {
   "cell_type": "code",
   "execution_count": 17,
   "metadata": {},
   "outputs": [],
   "source": [
    "# get columns where most common value is not \"Not applicable\"\n",
    "basic_cols_alt = [x for x in df_full.columns if (df_full[x].value_counts().index[0] != 'Not applicable')] \\\n",
    "    + ['latitude', 'longitude', 'elevation']"
   ]
  },
  {
   "cell_type": "code",
   "execution_count": 18,
   "metadata": {},
   "outputs": [],
   "source": [
    "# basic cols to match emp500_data_per_sample_summed_with_metadata.csv plus sample name alternatives\n",
    "basic_cols = ['#SampleID', 'emp500_study_id', 'emp500_title', 'emp500_principal_investigator', 'tier', \n",
    "              'barcode_prefix', 'study_sample_number', 'sample_name_plus_plate', 'metab_id_2017', \n",
    "              'sampling_materials', 'sampling_method', 'environmental_package', 'physical_specimen_institution',\n",
    "              'env_biome', 'env_feature', 'env_material', 'empo_1', 'empo_2', 'empo_3',\n",
    "              'sample_type', 'taxon_id', 'scientific_name', 'host_taxid', 'host_common_name',\n",
    "              'host_scientific_name', 'geo_loc_name', 'latitude', 'longitude', 'elevation']"
   ]
  },
  {
   "cell_type": "code",
   "execution_count": 19,
   "metadata": {},
   "outputs": [],
   "source": [
    "df_basic2 = df_full[basic_cols]"
   ]
  },
  {
   "cell_type": "code",
   "execution_count": 20,
   "metadata": {},
   "outputs": [],
   "source": [
    "df_basic2.drop_duplicates().to_csv('/Users/luke.thompson/emp/500-metadata/output-mapping-prep-info/emp500_basic_map.tsv',\n",
    "                                  sep='\\t', index=False)"
   ]
  },
  {
   "cell_type": "markdown",
   "metadata": {},
   "source": [
    "#### Quality check"
   ]
  },
  {
   "cell_type": "code",
   "execution_count": 21,
   "metadata": {},
   "outputs": [
    {
     "data": {
      "text/plain": [
       "{'Distel72.BS.3.Gill',\n",
       " 'Distel72.BS.3.Siphon',\n",
       " 'Distel72.BS.3.VM',\n",
       " 'Distel72.BS.4.Gill',\n",
       " 'Distel72.BS.4.Siphon',\n",
       " 'Distel72.BS.4.VM',\n",
       " 'Distel72.BS.5.Gill',\n",
       " 'Distel72.BS.5.Siphon',\n",
       " 'Distel72.BS.5.VM',\n",
       " 'Jensen43.AZ10.166',\n",
       " 'Jensen43.AZ10.397',\n",
       " 'Jensen43.AZ10.413',\n",
       " 'Jensen43.BA10.308',\n",
       " 'Jensen43.BA10.311',\n",
       " 'Jensen43.BA10.494',\n",
       " 'Jensen43.BZ15.03',\n",
       " 'Jensen43.BZ15.18',\n",
       " 'Jensen43.BZ15.21',\n",
       " 'Jensen43.MCO300.25.1',\n",
       " 'Jensen43.MCO300.25.3',\n",
       " 'Jensen43.MCO300.25.4',\n",
       " 'Jensen43.MCO700.35.1',\n",
       " 'Jensen43.MCO700.35.2',\n",
       " 'Jensen43.MCO700.35.3',\n",
       " 'Jensen43.MCO700.35.4',\n",
       " 'Jensen43.MX12.202',\n",
       " 'Jensen43.MX12.248',\n",
       " 'Jensen43.NM11.403',\n",
       " 'Jensen43.NM11.561',\n",
       " 'Jensen43.NM11.692',\n",
       " 'Jensen43.PL04.242',\n",
       " 'Jensen43.PL04.316',\n",
       " 'Jensen43.PL04.329',\n",
       " 'Uren82.plant.associated.13',\n",
       " 'Uren82.plant.associated.14',\n",
       " 'Uren82.plant.associated.15',\n",
       " 'Uren82.plant.associated.16',\n",
       " 'Uren82.plant.associated.17',\n",
       " 'Uren82.plant.associated.18',\n",
       " 'Uren82.plant.associated.19',\n",
       " 'Uren82.plant.associated.20',\n",
       " 'Uren82.plant.associated.21'}"
      ]
     },
     "execution_count": 21,
     "metadata": {},
     "output_type": "execute_result"
    }
   ],
   "source": [
    "# sample IDs in individual mapping files but not in list of samples sequenced (df_samp & df_merged2 give same results)\n",
    "# these are mostly/all Tier 2 samples\n",
    "set(df_merged['sample_name']) - set(df_merged2.index)"
   ]
  },
  {
   "cell_type": "code",
   "execution_count": 22,
   "metadata": {},
   "outputs": [
    {
     "data": {
      "text/plain": [
       "set()"
      ]
     },
     "execution_count": 22,
     "metadata": {},
     "output_type": "execute_result"
    }
   ],
   "source": [
    "# sample IDs in list of samples sequenced but not in individual mapping files (this set will be zero when finished)\n",
    "set(df_samp['#SampleID']) - set(df_merged2.index)"
   ]
  },
  {
   "cell_type": "code",
   "execution_count": null,
   "metadata": {},
   "outputs": [],
   "source": []
  }
 ],
 "metadata": {
  "anaconda-cloud": {},
  "kernelspec": {
   "display_name": "Python 3",
   "language": "python",
   "name": "python3"
  },
  "language_info": {
   "codemirror_mode": {
    "name": "ipython",
    "version": 3
   },
   "file_extension": ".py",
   "mimetype": "text/x-python",
   "name": "python",
   "nbconvert_exporter": "python",
   "pygments_lexer": "ipython3",
   "version": "3.7.1"
  }
 },
 "nbformat": 4,
 "nbformat_minor": 1
}
