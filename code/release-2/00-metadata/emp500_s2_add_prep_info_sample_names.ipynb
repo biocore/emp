{
 "cells": [
  {
   "cell_type": "markdown",
   "metadata": {},
   "source": [
    "## emp500_s2_add_prep_info_sample_names.ipynb"
   ]
  },
  {
   "cell_type": "code",
   "execution_count": 1,
   "metadata": {},
   "outputs": [],
   "source": [
    "import pandas as pd"
   ]
  },
  {
   "cell_type": "markdown",
   "metadata": {},
   "source": [
    "#### Define function"
   ]
  },
  {
   "cell_type": "code",
   "execution_count": 2,
   "metadata": {},
   "outputs": [],
   "source": [
    "def add_sample_ids(infile_samples, infile_prep, outfile_prep, drop_sample_name_plus_plate):\n",
    "    df_samples = pd.read_excel(infile_samples)\n",
    "    df_samples = df_samples[['#SampleID', 'sample_name_plus_plate']]\n",
    "    df_prep = pd.read_excel(infile_prep)\n",
    "    df_merged = pd.merge(df_samples, df_prep, left_on='sample_name_plus_plate', right_on='SampleID', how='inner')\n",
    "    df_merged.drop('SampleID', axis=1, inplace=True)\n",
    "    if drop_sample_name_plus_plate == True:\n",
    "        df_merged.drop('sample_name_plus_plate', axis=1, inplace=True)\n",
    "    df_merged.to_excel(outfile_prep, index=False)\n",
    "    print(df_prep.shape[0], df_merged.shape[0])\n",
    "    #print(df_prep.columns[:5])\n",
    "    #print(df_merged.columns[:5])\n",
    "    #return sorted(list(set(df_prep['SampleID']) - set(df_merged['sample_name_plus_plate'])))"
   ]
  },
  {
   "cell_type": "markdown",
   "metadata": {},
   "source": [
    "#### File names"
   ]
  },
  {
   "cell_type": "code",
   "execution_count": 3,
   "metadata": {},
   "outputs": [],
   "source": [
    "input_sampleIDs = '/Users/luke.thompson/emp/500-metadata/input-sample-prep-info/emp500_sample_information_manual.xlsx'\n",
    "\n",
    "input_general = '/Users/luke.thompson/emp/500-metadata/input-sample-prep-info/emp500_prep_information_general_prepandas.xlsx'\n",
    "input_16s1 = '/Users/luke.thompson/emp/500-metadata/input-sample-prep-info/emp500_prep_information_16s_plates1thru5_prepandas.xlsx'\n",
    "input_16s2 = '/Users/luke.thompson/emp/500-metadata/input-sample-prep-info/emp500_prep_information_16s_plates6thru9_prepandas.xlsx'\n",
    "input_its1 = '/Users/luke.thompson/emp/500-metadata/input-sample-prep-info/emp500_prep_information_its_plates1thru5_prepandas.xlsx'\n",
    "input_its2 = '/Users/luke.thompson/emp/500-metadata/input-sample-prep-info/emp500_prep_information_its_plates6thru9_prepandas.xlsx'\n",
    "input_18s1 = '/Users/luke.thompson/emp/500-metadata/input-sample-prep-info/emp500_prep_information_18s_plates1and5_prepandas.xlsx'\n",
    "input_18s2 = '/Users/luke.thompson/emp/500-metadata/input-sample-prep-info/emp500_prep_information_18s_plates2thru4_prepandas.xlsx'\n",
    "\n",
    "output_general = '/Users/luke.thompson/emp/500-metadata/input-sample-prep-info/emp500_prep_information_general.xlsx'\n",
    "output_16s1 = '/Users/luke.thompson/emp/500-metadata/input-sample-prep-info/emp500_prep_information_16s_plates1thru5.xlsx'\n",
    "output_16s2 = '/Users/luke.thompson/emp/500-metadata/input-sample-prep-info/emp500_prep_information_16s_plates6thru9.xlsx'\n",
    "output_its1 = '/Users/luke.thompson/emp/500-metadata/input-sample-prep-info/emp500_prep_information_its_plates1thru5.xlsx'\n",
    "output_its2 = '/Users/luke.thompson/emp/500-metadata/input-sample-prep-info/emp500_prep_information_its_plates6thru9.xlsx'\n",
    "output_18s1 = '/Users/luke.thompson/emp/500-metadata/input-sample-prep-info/emp500_prep_information_18s_plates1and5.xlsx'\n",
    "output_18s2 = '/Users/luke.thompson/emp/500-metadata/input-sample-prep-info/emp500_prep_information_18s_plates2thru4.xlsx'"
   ]
  },
  {
   "cell_type": "markdown",
   "metadata": {},
   "source": [
    "#### Run function"
   ]
  },
  {
   "cell_type": "code",
   "execution_count": 4,
   "metadata": {
    "scrolled": false
   },
   "outputs": [
    {
     "name": "stdout",
     "output_type": "stream",
     "text": [
      "864 864\n"
     ]
    }
   ],
   "source": [
    "add_sample_ids(input_sampleIDs, input_general, output_general, False)"
   ]
  },
  {
   "cell_type": "code",
   "execution_count": 5,
   "metadata": {},
   "outputs": [],
   "source": [
    "# samples '1.Thomas19.NP.LO.7tis', '2.Thomas19.BH.H1tis', '4.Thomas19.DH.H1tis' are listed on other plates"
   ]
  },
  {
   "cell_type": "code",
   "execution_count": 6,
   "metadata": {
    "scrolled": false
   },
   "outputs": [
    {
     "name": "stdout",
     "output_type": "stream",
     "text": [
      "480 477\n"
     ]
    }
   ],
   "source": [
    "add_sample_ids(input_sampleIDs, input_16s1, output_16s1, True)"
   ]
  },
  {
   "cell_type": "code",
   "execution_count": 7,
   "metadata": {},
   "outputs": [
    {
     "name": "stdout",
     "output_type": "stream",
     "text": [
      "384 375\n"
     ]
    }
   ],
   "source": [
    "add_sample_ids(input_sampleIDs, input_16s2, output_16s2, True)"
   ]
  },
  {
   "cell_type": "code",
   "execution_count": 8,
   "metadata": {
    "scrolled": true
   },
   "outputs": [
    {
     "name": "stdout",
     "output_type": "stream",
     "text": [
      "480 477\n"
     ]
    }
   ],
   "source": [
    "add_sample_ids(input_sampleIDs, input_its1, output_its1, True)"
   ]
  },
  {
   "cell_type": "code",
   "execution_count": 9,
   "metadata": {},
   "outputs": [
    {
     "name": "stdout",
     "output_type": "stream",
     "text": [
      "384 375\n"
     ]
    }
   ],
   "source": [
    "add_sample_ids(input_sampleIDs, input_its2, output_its2, True)"
   ]
  },
  {
   "cell_type": "code",
   "execution_count": 10,
   "metadata": {
    "scrolled": false
   },
   "outputs": [
    {
     "name": "stdout",
     "output_type": "stream",
     "text": [
      "192 192\n"
     ]
    }
   ],
   "source": [
    "add_sample_ids(input_sampleIDs, input_18s1, output_18s1, True)"
   ]
  },
  {
   "cell_type": "code",
   "execution_count": 11,
   "metadata": {},
   "outputs": [
    {
     "name": "stdout",
     "output_type": "stream",
     "text": [
      "288 285\n"
     ]
    }
   ],
   "source": [
    "add_sample_ids(input_sampleIDs, input_18s2, output_18s2, True)"
   ]
  },
  {
   "cell_type": "code",
   "execution_count": null,
   "metadata": {},
   "outputs": [],
   "source": []
  }
 ],
 "metadata": {
  "anaconda-cloud": {},
  "kernelspec": {
   "display_name": "Python 3",
   "language": "python",
   "name": "python3"
  },
  "language_info": {
   "codemirror_mode": {
    "name": "ipython",
    "version": 3
   },
   "file_extension": ".py",
   "mimetype": "text/x-python",
   "name": "python",
   "nbconvert_exporter": "python",
   "pygments_lexer": "ipython3",
   "version": "3.7.1"
  }
 },
 "nbformat": 4,
 "nbformat_minor": 1
}
